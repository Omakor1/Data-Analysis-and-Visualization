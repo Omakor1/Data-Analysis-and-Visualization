#This is my first Python Code on GitHub.
def Firt_Code(self,b):
c=4+b
First_Code(2)
print(c)
